{
  "nbformat": 4,
  "nbformat_minor": 0,
  "metadata": {
    "colab": {
      "provenance": [],
      "authorship_tag": "ABX9TyNx4KLS/SiG7b1GW8ipcUzS",
      "include_colab_link": true
    },
    "kernelspec": {
      "name": "python3",
      "display_name": "Python 3"
    },
    "language_info": {
      "name": "python"
    }
  },
  "cells": [
    {
      "cell_type": "markdown",
      "metadata": {
        "id": "view-in-github",
        "colab_type": "text"
      },
      "source": [
        "<a href=\"https://colab.research.google.com/github/smartsw33t/tamiltrans/blob/main/Tamil_polyglot.ipynb\" target=\"_parent\"><img src=\"https://colab.research.google.com/assets/colab-badge.svg\" alt=\"Open In Colab\"/></a>"
      ]
    },
    {
      "cell_type": "code",
      "source": [
        "pip install -U git+https://github.com/aboSamoor/polyglot.git@master"
      ],
      "metadata": {
        "colab": {
          "base_uri": "https://localhost:8080/"
        },
        "id": "KGa8pPXOJozh",
        "outputId": "de42ec69-f5c5-4363-a081-b0c11cfe1007"
      },
      "execution_count": null,
      "outputs": [
        {
          "output_type": "stream",
          "name": "stdout",
          "text": [
            "Looking in indexes: https://pypi.org/simple, https://us-python.pkg.dev/colab-wheels/public/simple/\n",
            "Collecting git+https://github.com/aboSamoor/polyglot.git@master\n",
            "  Cloning https://github.com/aboSamoor/polyglot.git (to revision master) to /tmp/pip-req-build-afsjcz0n\n",
            "  Running command git clone -q https://github.com/aboSamoor/polyglot.git /tmp/pip-req-build-afsjcz0n\n",
            "Requirement already satisfied: wheel>=0.23.0 in /usr/local/lib/python3.8/dist-packages (from polyglot==16.7.4) (0.38.4)\n",
            "Requirement already satisfied: numpy>=1.6.1 in /usr/local/lib/python3.8/dist-packages (from polyglot==16.7.4) (1.21.6)\n",
            "Requirement already satisfied: pycld2>=0.3 in /usr/local/lib/python3.8/dist-packages (from polyglot==16.7.4) (0.41)\n",
            "Requirement already satisfied: morfessor>=2.0.2a1 in /usr/local/lib/python3.8/dist-packages (from polyglot==16.7.4) (2.0.6)\n",
            "Requirement already satisfied: futures>=2.1.6 in /usr/local/lib/python3.8/dist-packages (from polyglot==16.7.4) (2.2.0)\n",
            "Requirement already satisfied: PyICU>=1.8 in /usr/local/lib/python3.8/dist-packages (from polyglot==16.7.4) (2.10.2)\n",
            "Requirement already satisfied: six>=1.7.3 in /usr/local/lib/python3.8/dist-packages (from polyglot==16.7.4) (1.15.0)\n"
          ]
        }
      ]
    },
    {
      "cell_type": "code",
      "source": [
        "pip install polyglot"
      ],
      "metadata": {
        "colab": {
          "base_uri": "https://localhost:8080/"
        },
        "id": "-cpliA24Itzo",
        "outputId": "cbf3aa4e-4f8a-4dbb-8c6f-ce39a6fcd6d9"
      },
      "execution_count": null,
      "outputs": [
        {
          "output_type": "stream",
          "name": "stdout",
          "text": [
            "Looking in indexes: https://pypi.org/simple, https://us-python.pkg.dev/colab-wheels/public/simple/\n",
            "Requirement already satisfied: polyglot in /usr/local/lib/python3.8/dist-packages (16.7.4)\n"
          ]
        }
      ]
    },
    {
      "cell_type": "code",
      "source": [
        "import polyglot\n"
      ],
      "metadata": {
        "id": "JE5hSykgIyuQ"
      },
      "execution_count": null,
      "outputs": []
    },
    {
      "cell_type": "code",
      "source": [
        "from polyglot.text import Text, Word"
      ],
      "metadata": {
        "id": "4H-o8zm3I51o"
      },
      "execution_count": null,
      "outputs": []
    },
    {
      "cell_type": "code",
      "source": [
        "text = Text(\"கண்டுகொண்டேன் கண்டுகொண்டேன்\")\n",
        "print(\"Language Detected: Code={}, Name={}\\n\".format(text.language.code, text.language.name))"
      ],
      "metadata": {
        "colab": {
          "base_uri": "https://localhost:8080/"
        },
        "id": "xCzBdtf5KOxg",
        "outputId": "fedc66d1-dbb5-4b64-b5e1-3c0c04ba63e1"
      },
      "execution_count": null,
      "outputs": [
        {
          "output_type": "stream",
          "name": "stdout",
          "text": [
            "Language Detected: Code=ta, Name=Tamil\n",
            "\n"
          ]
        }
      ]
    },
    {
      "cell_type": "code",
      "source": [
        "zen = Text(\"அசைந்து இசைத்தது வளைக்கரம் தான்  \"\n",
        "           \"இசைந்து இசைத்தது புது ஸ்வரம் தான்\"\n",
        "           \"சிரித்த சிரிப்பொலி சிலம்பொலி தான்.\"\n",
        "\"கழுத்தில் இருப்பது வலம்புரி தான்\")\n",
        "print(zen.words)"
      ],
      "metadata": {
        "colab": {
          "base_uri": "https://localhost:8080/"
        },
        "id": "QoOKLs1QKaNo",
        "outputId": "d063e1ec-36ac-4c53-cfcf-33e1f9120af5"
      },
      "execution_count": null,
      "outputs": [
        {
          "output_type": "stream",
          "name": "stdout",
          "text": [
            "['அசைந்து', 'இசைத்தது', 'வளைக்கரம்', 'தான்', 'இசைந்து', 'இசைத்தது', 'புது', 'ஸ்வரம்', 'தான்சிரித்த', 'சிரிப்பொலி', 'சிலம்பொலி', 'தான்.கழுத்தில்', 'இருப்பது', 'வலம்புரி', 'தான்']\n"
          ]
        }
      ]
    },
    {
      "cell_type": "code",
      "source": [
        "print(zen.sentences)"
      ],
      "metadata": {
        "colab": {
          "base_uri": "https://localhost:8080/"
        },
        "id": "ZNgeBsJ4LIho",
        "outputId": "d07eaefd-bd39-49a3-a2f6-01444489fa1b"
      },
      "execution_count": null,
      "outputs": [
        {
          "output_type": "stream",
          "name": "stdout",
          "text": [
            "[Sentence(\"அசைந்து இசைத்தது வளைக்கரம் தான்  இசைந்து இசைத்தது புது ஸ்வரம் தான்சிரித்த சிரிப்பொலி சிலம்பொலி தான்.\"), Sentence(\"கழுத்தில் இருப்பது வலம்புரி தான்\")]\n"
          ]
        }
      ]
    },
    {
      "cell_type": "code",
      "source": [
        "text = Text(u\"சுயமரியாதை இயக்கத் தலைவர் ஈ.வெ.ராமசாமிக்கு, 1938 -ம் ஆண்டு நவம்பர் 13-ம் தேதி, காஞ்சிபுரத்தில் நடைபெற்ற பெண்கள் மாநாட்டில் ’பெரியார்’ என்ற  பட்டத்தை அளித்தவர், அன்னை மீனாம்பாள்\")"
      ],
      "metadata": {
        "id": "IBApIMNULVCH"
      },
      "execution_count": null,
      "outputs": []
    },
    {
      "cell_type": "code",
      "source": [
        "from polyglot.downloader import downloader\n",
        "downloader.download(\"embeddings2.ta\")"
      ],
      "metadata": {
        "colab": {
          "base_uri": "https://localhost:8080/"
        },
        "id": "e0c-5djaM1go",
        "outputId": "26de93d5-c181-46b7-9830-4dfa63e20463"
      },
      "execution_count": null,
      "outputs": [
        {
          "output_type": "stream",
          "name": "stdout",
          "text": [
            "[polyglot_data] Downloading package embeddings2.ta to\n",
            "[polyglot_data]     /root/polyglot_data...\n",
            "[polyglot_data]   Package embeddings2.ta is already up-to-date!\n"
          ]
        },
        {
          "output_type": "execute_result",
          "data": {
            "text/plain": [
              "True"
            ]
          },
          "metadata": {},
          "execution_count": 44
        }
      ]
    },
    {
      "cell_type": "code",
      "source": [
        "from polyglot.downloader import downloader\n",
        "print(downloader.supported_languages_table(\"morph2\"))"
      ],
      "metadata": {
        "colab": {
          "base_uri": "https://localhost:8080/"
        },
        "id": "O8vcyyXJL_vX",
        "outputId": "52f30612-d14b-467c-f44b-11c64a0427a8"
      },
      "execution_count": null,
      "outputs": [
        {
          "output_type": "stream",
          "name": "stdout",
          "text": [
            "  1. Kapampangan                2. Italian                    3. Upper Sorbian            \n",
            "  4. Sakha                      5. Hindi                      6. French                   \n",
            "  7. Spanish; Castilian         8. Vietnamese                 9. Arabic                   \n",
            " 10. Macedonian                11. Pashto, Pushto            12. Bosnian-Croatian-Serbian \n",
            " 13. Egyptian Arabic           14. Norwegian Nynorsk         15. Sundanese                \n",
            " 16. Sicilian                  17. Azerbaijani               18. Bulgarian                \n",
            " 19. Yoruba                    20. Tajik                     21. Georgian                 \n",
            " 22. Tatar                     23. Galician                  24. Malagasy                 \n",
            " 25. Uighur, Uyghur            26. Amharic                   27. Venetian                 \n",
            " 28. Yiddish                   29. Norwegian                 30. Alemannic                \n",
            " 31. Estonian                  32. West Flemish              33. Divehi; Dhivehi; Mald... \n",
            " 34. Japanese                  35. Ilokano                   36. Haitian; Haitian Creole  \n",
            " 37. Belarusian                38. Greek, Modern             39. Ossetian, Ossetic        \n",
            " 40. Welsh                     41. Malayalam                 42. Albanian                 \n",
            " 43. Marathi (Marāṭhī)         44. Armenian                  45. Slovene                  \n",
            " 46. Korean                    47. Breton                    48. Irish                    \n",
            " 49. Luxembourgish, Letzeb...  50. Bengali                   51. Serbian                  \n",
            " 52. Fiji Hindi                53. Javanese                  54. Finnish                  \n",
            " 55. Gan Chinese               56. Kirghiz, Kyrgyz           57. Catalan; Valencian       \n",
            " 58. Quechua                   59. Croatian                  60. Dutch                    \n",
            " 61. Swedish                   62. Ido                       63. Tagalog                  \n",
            " 64. Sanskrit (Saṁskṛta)       65. Piedmontese language      66. Asturian                 \n",
            " 67. Danish                    68. Cebuano                   69. Western Frisian          \n",
            " 70. Kannada                   71. Scots                     72. Maltese                  \n",
            " 73. Swahili                   74. Limburgish, Limburgan...  75. Waray-Waray              \n",
            " 76. Lombard language          77. Uzbek                     78. Kurdish                  \n",
            " 79. Latvian                   80. Burmese                   81. Aragonese                \n",
            " 82. Volapük                   83. Northern Sami             84. Faroese                  \n",
            " 85. Kazakh                    86. Telugu                    87. Ukrainian                \n",
            " 88. Assamese                  89. Chuvash                   90. Silesian                 \n",
            " 91. Turkmen                   92. Romanian, Moldavian, ...  93. Persian                  \n",
            " 94. Tibetan Standard, Tib...  95. Latin                     96. Slovak                   \n",
            " 97. Sinhala, Sinhalese        98. Bavarian                  99. Icelandic                \n",
            "100. Mongolian                101. Walloon                  102. Portuguese               \n",
            "103. Urdu                     104. Gujarati                 105. Manx                     \n",
            "106. Tamil                    107. Khmer                    108. English                  \n",
            "109. Malay                    110. Chechen                  111. Bishnupriya Manipuri     \n",
            "112. Afrikaans                113. Basque                   114. Polish                   \n",
            "115. German                   116. Esperanto                117. Indonesian               \n",
            "118. Occitan                  119. Chinese                  120. Czech                    \n",
            "121. Hebrew (modern)          122. Romansh                  123. Lithuanian               \n",
            "124. Turkish                  125. Nepali                   126. Bosnian                  \n",
            "127. Interlingua              128. Zazaki                   129. Oriya                    \n",
            "130. Hungarian                131. Scottish Gaelic; Gaelic  132. Bashkir                  \n",
            "133. Thai                     134. Panjabi, Punjabi         135. Russian                  \n",
            "\n"
          ]
        }
      ]
    },
    {
      "cell_type": "code",
      "source": [
        "%%bash\n",
        "polyglot download morph2.en morph2.ta"
      ],
      "metadata": {
        "colab": {
          "base_uri": "https://localhost:8080/"
        },
        "id": "uqPf9dYRMjSR",
        "outputId": "065ca4db-a281-42b4-a126-4666d667fdad"
      },
      "execution_count": null,
      "outputs": [
        {
          "output_type": "stream",
          "name": "stdout",
          "text": [
            "[polyglot_data] Downloading package morph2.en to\n",
            "[polyglot_data]     /root/polyglot_data...\n",
            "[polyglot_data]   Package morph2.en is already up-to-date!\n",
            "[polyglot_data] Downloading package morph2.ta to\n",
            "[polyglot_data]     /root/polyglot_data...\n",
            "[polyglot_data]   Package morph2.ta is already up-to-date!\n"
          ]
        }
      ]
    },
    {
      "cell_type": "code",
      "source": [
        "words = [ \"சமூகநீதி\", \"சுயமரியாதை\"]\n",
        "for w in words:\n",
        "  w = Word(w, language=\"ta\")\n",
        "  print(\"{:<20}{}\".format(w, w.morphemes))"
      ],
      "metadata": {
        "colab": {
          "base_uri": "https://localhost:8080/"
        },
        "id": "DEqmTJu0N2Fw",
        "outputId": "bfdcc5c4-7047-4351-9df3-5fff7a41d92d"
      },
      "execution_count": null,
      "outputs": [
        {
          "output_type": "stream",
          "name": "stdout",
          "text": [
            "சமூகநீதி            ['சமூக', 'நீதி']\n",
            "சுயமரியாதை          ['சுய', 'மரியாதை']\n"
          ]
        }
      ]
    },
    {
      "cell_type": "code",
      "source": [
        "blob = \"சமூகநீதிசுயமரியாதை.\"\n",
        "text = Text(blob)\n",
        "text.language = \"ta\"\n",
        "text.morphemes"
      ],
      "metadata": {
        "colab": {
          "base_uri": "https://localhost:8080/"
        },
        "id": "gDA3X_uXOjq3",
        "outputId": "8fb36eea-2947-48b7-bad0-7acd82a29725"
      },
      "execution_count": null,
      "outputs": [
        {
          "output_type": "execute_result",
          "data": {
            "text/plain": [
              "WordList(['சமூக', 'நீதி', 'சுய', 'மரியாதை', '.'])"
            ]
          },
          "metadata": {},
          "execution_count": 48
        }
      ]
    },
    {
      "cell_type": "code",
      "source": [],
      "metadata": {
        "id": "LGtx3F_AaCWu"
      },
      "execution_count": null,
      "outputs": []
    }
  ]
}