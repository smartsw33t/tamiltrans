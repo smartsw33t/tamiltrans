{
  "nbformat": 4,
  "nbformat_minor": 0,
  "metadata": {
    "colab": {
      "provenance": [],
      "authorship_tag": "ABX9TyOgXwGu9HKyroGoy6+BVqUw",
      "include_colab_link": true
    },
    "kernelspec": {
      "name": "python3",
      "display_name": "Python 3"
    },
    "language_info": {
      "name": "python"
    }
  },
  "cells": [
    {
      "cell_type": "markdown",
      "metadata": {
        "id": "view-in-github",
        "colab_type": "text"
      },
      "source": [
        "<a href=\"https://colab.research.google.com/github/smartsw33t/tamiltrans/blob/main/tamilinayavaani.ipynb\" target=\"_parent\"><img src=\"https://colab.research.google.com/assets/colab-badge.svg\" alt=\"Open In Colab\"/></a>"
      ]
    },
    {
      "cell_type": "code",
      "source": [
        "pip install open-tamil"
      ],
      "metadata": {
        "colab": {
          "base_uri": "https://localhost:8080/"
        },
        "id": "NtIjCy2wBygc",
        "outputId": "bee95bcf-ba34-4273-a0ac-610959049cca"
      },
      "execution_count": null,
      "outputs": [
        {
          "output_type": "stream",
          "name": "stdout",
          "text": [
            "Looking in indexes: https://pypi.org/simple, https://us-python.pkg.dev/colab-wheels/public/simple/\n",
            "Collecting open-tamil\n",
            "  Downloading Open-Tamil-1.1.tar.gz (2.6 MB)\n",
            "\u001b[K     |████████████████████████████████| 2.6 MB 5.2 MB/s \n",
            "\u001b[?25hBuilding wheels for collected packages: open-tamil\n",
            "  Building wheel for open-tamil (setup.py) ... \u001b[?25l\u001b[?25hdone\n",
            "  Created wheel for open-tamil: filename=Open_Tamil-1.1-py3-none-any.whl size=2388368 sha256=852d0484b4a14ac819deedb235b294e7c277a311a720dba2bd30ff9c69f16ac7\n",
            "  Stored in directory: /root/.cache/pip/wheels/fb/86/19/f266797eac92bb1c0dd71bac4b2fbc1ac32d194e2fe43a0b35\n",
            "Successfully built open-tamil\n",
            "Installing collected packages: open-tamil\n",
            "Successfully installed open-tamil-1.1\n"
          ]
        }
      ]
    },
    {
      "cell_type": "code",
      "source": [
        "pip install tamilinayavaani"
      ],
      "metadata": {
        "colab": {
          "base_uri": "https://localhost:8080/"
        },
        "id": "cMK8eWVzGxi3",
        "outputId": "98db9739-78d5-41eb-da30-c481eb06efc0"
      },
      "execution_count": null,
      "outputs": [
        {
          "output_type": "stream",
          "name": "stdout",
          "text": [
            "Looking in indexes: https://pypi.org/simple, https://us-python.pkg.dev/colab-wheels/public/simple/\n",
            "Requirement already satisfied: tamilinayavaani in /usr/local/lib/python3.8/dist-packages (0.14)\n",
            "Requirement already satisfied: open-tamil>=0.96 in /usr/local/lib/python3.8/dist-packages (from tamilinayavaani) (1.1)\n"
          ]
        }
      ]
    },
    {
      "cell_type": "code",
      "source": [
        "pip install --upgrade tamilinayavaani>=0.13"
      ],
      "metadata": {
        "id": "mQMV1xTJDI9J"
      },
      "execution_count": null,
      "outputs": []
    },
    {
      "cell_type": "code",
      "source": [
        "from tamilinayavaani import SpellChecker"
      ],
      "metadata": {
        "id": "5gF0Ut-GDO90"
      },
      "execution_count": null,
      "outputs": []
    },
    {
      "cell_type": "code",
      "source": [
        "flag,suggs=SpellChecker.REST_interface('உன்னை','பிடிக்கும்')"
      ],
      "metadata": {
        "id": "wzMEXJ3pDSOM"
      },
      "execution_count": null,
      "outputs": []
    },
    {
      "cell_type": "code",
      "source": [],
      "metadata": {
        "id": "8DvZ9_zvDap9"
      },
      "execution_count": null,
      "outputs": []
    }
  ]
}